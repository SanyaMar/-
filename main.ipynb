{
  "cells": [
    {
      "cell_type": "markdown",
      "metadata": {
        "id": "view-in-github",
        "colab_type": "text"
      },
      "source": [
        "<a href=\"https://colab.research.google.com/github/SanyaMar/-/blob/main/main.ipynb\" target=\"_parent\"><img src=\"https://colab.research.google.com/assets/colab-badge.svg\" alt=\"Open In Colab\"/></a>"
      ]
    },
    {
      "cell_type": "code",
      "execution_count": null,
      "metadata": {
        "colab": {
          "base_uri": "https://localhost:8080/"
        },
        "id": "dVdV7nFsQBPk",
        "outputId": "defca609-e6e9-404d-9f21-d1ea5f241fee"
      },
      "outputs": [
        {
          "output_type": "stream",
          "name": "stdout",
          "text": [
            "Drive already mounted at /content/drive; to attempt to forcibly remount, call drive.mount(\"/content/drive\", force_remount=True).\n"
          ]
        }
      ],
      "source": [
        "import os\n",
        "import csv\n",
        "from typing import Any, Tuple, List\n",
        "\n",
        "import torch\n",
        "import torch.optim as optim\n",
        "from torch import nn\n",
        "from torch.utils.data import Dataset, DataLoader\n",
        "import torchvision\n",
        "import matplotlib.pyplot as plt\n",
        "import pandas as pd\n",
        "import numpy as np\n",
        "import cv2\n",
        "from sklearn.model_selection import train_test_split\n",
        "from google.colab import drive\n",
        "drive.mount('/content/drive')"
      ]
    },
    {
      "cell_type": "code",
      "execution_count": null,
      "metadata": {
        "id": "L6mB9KERQBPv"
      },
      "outputs": [],
      "source": [
        "class MyDataset(Dataset):\n",
        "    def __init__(self, path_to_annot_file: str, transform: Any=None, train: bool=False, test: bool=False, valid: bool=False) -> None:\n",
        "        self.path_to_annot_file = path_to_annot_file\n",
        "        self.transform = transform\n",
        "\n",
        "        data = pd.read_csv(path_to_annot_file, delimiter=',', usecols=(0, 2), names=('abs_path', 'name'))\n",
        "        data['mark'] = 0\n",
        "        data.loc[data['name'] == 'dog', 'mark'] = 1\n",
        "\n",
        "        X_train_val, X_test, y_train_val, y_test = train_test_split(data['abs_path'], data['mark'], test_size=0.1, random_state=42)\n",
        "        X_train, X_val, y_train, y_val = train_test_split(X_train_val, y_train_val, test_size=0.11, random_state=42)\n",
        "\n",
        "        if train:\n",
        "            self.data = pd.DataFrame({'abs_path': X_train, 'mark': y_train})\n",
        "        elif test:\n",
        "            self.data = pd.DataFrame({'abs_path': X_test, 'mark': y_test})\n",
        "        elif valid:\n",
        "            self.data = pd.DataFrame({'abs_path': X_val, 'mark': y_val})\n",
        "\n",
        "    def __len__(self) -> int:\n",
        "        return len(self.data)\n",
        "\n",
        "    def __getitem__(self, index: int) -> Tuple[torch.Tensor, int]:\n",
        "        path_to_image = self.data.iloc[index, 0]\n",
        "        image = cv2.cvtColor(cv2.imread(path_to_image), cv2.COLOR_BGR2RGB)\n",
        "        label = self.data.iloc[index, 1]\n",
        "        if self.transform:\n",
        "            image = self.transform(image)\n",
        "        return image, label\n"
      ]
    },
    {
      "cell_type": "code",
      "source": [
        "transforms = torchvision.transforms.Compose([torchvision.transforms.ToTensor(),\n",
        "                                                    torchvision.transforms.Resize((224, 224)),\n",
        "                                                    torchvision.transforms.Normalize((0.485, 0.456, 0.406), (0.229, 0.224, 0.225)),\n",
        "                                                    torchvision.transforms.RandomHorizontalFlip(p=0.3)])"
      ],
      "metadata": {
        "id": "mjGN_Xr9xL29"
      },
      "execution_count": null,
      "outputs": []
    },
    {
      "cell_type": "code",
      "source": [
        "train_data = MyDataset(path_to_annot_file='/content/drive/MyDrive/CN/paths_1.csv', transform=transforms, train = True)\n",
        "test_data = MyDataset(path_to_annot_file='/content/drive/MyDrive/CN/paths_1.csv', transform=transforms, test = True)\n",
        "valid_data = MyDataset(path_to_annot_file='/content/drive/MyDrive/CN/paths_1.csv', transform=transforms, valid = True)"
      ],
      "metadata": {
        "id": "y4Pnd5zf4qVa"
      },
      "execution_count": null,
      "outputs": []
    },
    {
      "cell_type": "code",
      "source": [
        "len(train_data), len(test_data), len(valid_data)"
      ],
      "metadata": {
        "colab": {
          "base_uri": "https://localhost:8080/"
        },
        "id": "o4rwOd_J6uKP",
        "outputId": "5a64c7d2-a9a9-4754-b451-397337a97e5a"
      },
      "execution_count": null,
      "outputs": [
        {
          "output_type": "execute_result",
          "data": {
            "text/plain": [
              "(1602, 201, 198)"
            ]
          },
          "metadata": {},
          "execution_count": 33
        }
      ]
    },
    {
      "cell_type": "code",
      "source": [
        "train_data.data['mark'].value_counts()"
      ],
      "metadata": {
        "id": "t5zCewc463ha",
        "outputId": "5a415785-352d-4f2b-f5f0-0c4d31214411",
        "colab": {
          "base_uri": "https://localhost:8080/"
        }
      },
      "execution_count": null,
      "outputs": [
        {
          "output_type": "execute_result",
          "data": {
            "text/plain": [
              "1    802\n",
              "0    800\n",
              "Name: mark, dtype: int64"
            ]
          },
          "metadata": {},
          "execution_count": 34
        }
      ]
    }
  ],
  "metadata": {
    "kernelspec": {
      "display_name": "Python 3",
      "name": "python3"
    },
    "language_info": {
      "codemirror_mode": {
        "name": "ipython",
        "version": 3
      },
      "file_extension": ".py",
      "mimetype": "text/x-python",
      "name": "python",
      "nbconvert_exporter": "python",
      "pygments_lexer": "ipython3",
      "version": "3.11.4"
    },
    "colab": {
      "provenance": [],
      "gpuType": "T4",
      "include_colab_link": true
    },
    "accelerator": "GPU"
  },
  "nbformat": 4,
  "nbformat_minor": 0
}